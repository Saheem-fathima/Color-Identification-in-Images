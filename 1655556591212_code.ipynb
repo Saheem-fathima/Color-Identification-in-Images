{
  "metadata": {
    "kernelspec": {
      "display_name": "Pyolite",
      "language": "python",
      "name": "python"
    },
    "language_info": {
      "codemirror_mode": {
        "name": "python",
        "version": 3
      },
      "file_extension": ".py",
      "mimetype": "text/x-python",
      "name": "python",
      "nbconvert_exporter": "python",
      "pygments_lexer": "ipython3",
      "version": "3.8"
    }
  },
  "nbformat_minor": 5,
  "nbformat": 4,
  "cells": [
    {
      "cell_type": "code",
      "source": "import cv2\nimport pandas as pd\n\n#----------------------------\n\nimg_path ='pic2.jpg'\ncsv_path ='colors.csv'\n\n#reading csv file\nindex = ['color','color_name','hex','R','G','B']\ndf = pd.read_csv(csv_path,names=index,header=None)\n\n\n#reading image\n\nimg = cv2.imread(img_path)\nimg = cv2.resize(img.(800,600))\n\n#declaring global variables\n\nclicked=False\nr=g=b=xpos=ypos=0\n\n#function to calculate minimum distance from all colors and get the most matching color\ndef get_color_name(R,G,B):\n        minimum=1000\n        for i in range(len(df)):\n                d=abs(R-int(df.loc[i,'R']))+abs(G_int(df.loc[i,'G']))+abs(B_int(df.loc[i,'B']))\n                if d<= minimum:\n                       minimum=d\n                        cname=df.loc[i,'color_name']\n        return cname\n    \n#function to get x,y coordinates of mouse double click\n\ndef draw_function(event,x,y,flags,params):\n       if event==cv2,EVENT_LBUTTONDBLCLK:\n               global b,g,r,xpos,ypos,clicked\n                clicked=True\n                xpos=x\n                ypos=y\n                b,g,r=img[y,x]\n                b=int(b)\n                g=int(g)\n                r=int(r)\n        \n#creating window\ncv2.namedWindow('image')\ncv2.setMousecallback('image',draw_function)\n\nwhile True:\n        cv2.imshow('image\",img)\n        if clicked:\n                #cv2.rectangle(image,startpoint,endpoint,color,thickness)-1 fills entire rectangle\n                cv2.rectangle(img,(20,20),(600,600),(b,g,r),-1)\n               \n                #Creating text strings to display(color name and RGB values)\n                text=get_color_name(r,g,b)+'R='+str(r)+'G='+str(g)+'B='+str(b)\n                #cv2.putText(img,text,start,font(0-7),fontscale,color,thickness,lineType)\n                cv2.putText(img,text,(50,50),2,0.8,(255,255,255),2,cv2.LINE_AA)\n               \n               #For very light colours we will display text in black colour\n               if r+g+b>=600:\n                    cv2.putText(img,text,(50,50),2,0.8,(0,0,0),2,cv2.LINE_AA)\n        if cv2.waitkey(20)& 0xFF ==27:\n               break\n               \n cv2.destroyAllWindows( )              \n        \n        ",
      "metadata": {
        "trusted": true
      },
      "execution_count": null,
      "outputs": [],
      "id": "69741fa3-6165-4ef8-a6aa-83dabc69bcd4"
    }
  ]
}